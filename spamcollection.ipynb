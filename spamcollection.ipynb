{
 "cells": [
  {
   "cell_type": "code",
   "execution_count": 1,
   "metadata": {
    "colab": {
     "base_uri": "https://localhost:8080/"
    },
    "id": "6SPt_r7lRdGH",
    "outputId": "1794ae75-2370-4f21-9f59-d0988e49d9d5"
   },
   "outputs": [],
   "source": [
    "# pip install pyspark"
   ]
  },
  {
   "cell_type": "code",
   "execution_count": 2,
   "metadata": {
    "id": "lngpfumtQU37"
   },
   "outputs": [],
   "source": [
    "import pyspark"
   ]
  },
  {
   "cell_type": "code",
   "execution_count": 3,
   "metadata": {
    "id": "C19mXagHR21W"
   },
   "outputs": [],
   "source": [
    "from pyspark.sql import SparkSession"
   ]
  },
  {
   "cell_type": "code",
   "execution_count": 4,
   "metadata": {
    "id": "G6tLHXhDRcFk"
   },
   "outputs": [],
   "source": [
    "spark =SparkSession.builder.appName('spam').getOrCreate()"
   ]
  },
  {
   "cell_type": "code",
   "execution_count": 5,
   "metadata": {
    "id": "gv-pt5_-R0ak"
   },
   "outputs": [],
   "source": [
    "data= spark.read.csv(\"C:\\\\Users\\\\dhine\\\\Downloads\\\\SMSSpamCollection\",inferSchema=True,header=False,sep='\\t')"
   ]
  },
  {
   "cell_type": "code",
   "execution_count": 6,
   "metadata": {
    "id": "PcPi5Oy7SF6h"
   },
   "outputs": [],
   "source": [
    "data = data.withColumnRenamed('_c0','class').withColumnRenamed('_c1','text')"
   ]
  },
  {
   "cell_type": "code",
   "execution_count": 7,
   "metadata": {
    "colab": {
     "base_uri": "https://localhost:8080/"
    },
    "id": "feFSSZgNSexN",
    "outputId": "fccf5778-123d-40c8-9c2f-dbb68d530266"
   },
   "outputs": [
    {
     "name": "stdout",
     "output_type": "stream",
     "text": [
      "+-----+--------------------+\n",
      "|class|                text|\n",
      "+-----+--------------------+\n",
      "|  ham|Go until jurong p...|\n",
      "|  ham|Ok lar... Joking ...|\n",
      "| spam|Free entry in 2 a...|\n",
      "|  ham|U dun say so earl...|\n",
      "|  ham|Nah I don't think...|\n",
      "| spam|FreeMsg Hey there...|\n",
      "|  ham|Even my brother i...|\n",
      "|  ham|As per your reque...|\n",
      "| spam|WINNER!! As a val...|\n",
      "| spam|Had your mobile 1...|\n",
      "|  ham|I'm gonna be home...|\n",
      "| spam|SIX chances to wi...|\n",
      "| spam|URGENT! You have ...|\n",
      "|  ham|I've been searchi...|\n",
      "|  ham|I HAVE A DATE ON ...|\n",
      "| spam|XXXMobileMovieClu...|\n",
      "|  ham|Oh k...i'm watchi...|\n",
      "|  ham|Eh u remember how...|\n",
      "|  ham|Fine if thats th...|\n",
      "| spam|England v Macedon...|\n",
      "+-----+--------------------+\n",
      "only showing top 20 rows\n",
      "\n"
     ]
    }
   ],
   "source": [
    "data.show()"
   ]
  },
  {
   "cell_type": "code",
   "execution_count": 8,
   "metadata": {
    "id": "ToPKlYwxSh0e"
   },
   "outputs": [],
   "source": [
    "from pyspark.sql.functions import length"
   ]
  },
  {
   "cell_type": "code",
   "execution_count": 9,
   "metadata": {
    "id": "_69ad2MVS_2L"
   },
   "outputs": [],
   "source": [
    "data = data.withColumn('length',length(data['text']))"
   ]
  },
  {
   "cell_type": "code",
   "execution_count": 10,
   "metadata": {
    "colab": {
     "base_uri": "https://localhost:8080/"
    },
    "id": "XXKKe55hTHW3",
    "outputId": "034fbf2e-ef07-4650-9f6e-2520fdb99625"
   },
   "outputs": [
    {
     "name": "stdout",
     "output_type": "stream",
     "text": [
      "+-----+--------------------+------+\n",
      "|class|                text|length|\n",
      "+-----+--------------------+------+\n",
      "|  ham|Go until jurong p...|   111|\n",
      "|  ham|Ok lar... Joking ...|    29|\n",
      "| spam|Free entry in 2 a...|   155|\n",
      "|  ham|U dun say so earl...|    49|\n",
      "|  ham|Nah I don't think...|    61|\n",
      "| spam|FreeMsg Hey there...|   147|\n",
      "|  ham|Even my brother i...|    77|\n",
      "|  ham|As per your reque...|   160|\n",
      "| spam|WINNER!! As a val...|   157|\n",
      "| spam|Had your mobile 1...|   154|\n",
      "|  ham|I'm gonna be home...|   109|\n",
      "| spam|SIX chances to wi...|   136|\n",
      "| spam|URGENT! You have ...|   155|\n",
      "|  ham|I've been searchi...|   196|\n",
      "|  ham|I HAVE A DATE ON ...|    35|\n",
      "| spam|XXXMobileMovieClu...|   149|\n",
      "|  ham|Oh k...i'm watchi...|    26|\n",
      "|  ham|Eh u remember how...|    81|\n",
      "|  ham|Fine if thats th...|    56|\n",
      "| spam|England v Macedon...|   155|\n",
      "+-----+--------------------+------+\n",
      "only showing top 20 rows\n",
      "\n"
     ]
    }
   ],
   "source": [
    "data.show()"
   ]
  },
  {
   "cell_type": "code",
   "execution_count": 11,
   "metadata": {
    "colab": {
     "base_uri": "https://localhost:8080/"
    },
    "id": "a2X4fC0xTIXG",
    "outputId": "a0bfe57a-ac51-4f89-b9ab-762202583dbd"
   },
   "outputs": [
    {
     "name": "stdout",
     "output_type": "stream",
     "text": [
      "+-----+-----------------+\n",
      "|class|      avg(length)|\n",
      "+-----+-----------------+\n",
      "|  ham|71.45431945307645|\n",
      "| spam|138.6706827309237|\n",
      "+-----+-----------------+\n",
      "\n"
     ]
    }
   ],
   "source": [
    "#pretty clear difference\n",
    "data.groupby('class').mean().show()\n",
    "#this gives the average length"
   ]
  },
  {
   "cell_type": "markdown",
   "metadata": {
    "id": "8O2c-IGLT7jD"
   },
   "source": [
    "# Feature Transformations"
   ]
  },
  {
   "cell_type": "code",
   "execution_count": 21,
   "metadata": {
    "id": "ViLbIa0RT1CZ"
   },
   "outputs": [],
   "source": [
    "from pyspark.ml.feature import Tokenizer,StopWordsRemover,CountVectorizer,IDF,StringIndexer\n",
    "\n",
    "tokenizer=Tokenizer(inputCol=\"text\",outputCol=\"token_text\")\n",
    "stopremove=StopWordsRemover(inputCol=\"token_text\",outputCol=\"stop_tokens\")\n",
    "count_vec=CountVectorizer(inputCol=\"stop_tokens\",outputCol=\"c_vec\")\n",
    "idf=IDF(inputCol=\"c_vec\",outputCol=\"tf_idf\")\n",
    "ham_spam_to_num=StringIndexer(inputCol=\"class\",outputCol=\"label\")"
   ]
  },
  {
   "cell_type": "code",
   "execution_count": 22,
   "metadata": {
    "id": "ziwomk33D8oI"
   },
   "outputs": [],
   "source": [
    "from pyspark.ml.feature import VectorAssembler\n",
    "from pyspark.ml.linalg import Vector"
   ]
  },
  {
   "cell_type": "code",
   "execution_count": 23,
   "metadata": {
    "id": "MBBcZFWfENBj"
   },
   "outputs": [],
   "source": [
    "clean_up = VectorAssembler(inputCols=[\"tf_idf\",\"length\"],outputCol=\"features\")"
   ]
  },
  {
   "cell_type": "code",
   "execution_count": 24,
   "metadata": {
    "colab": {
     "base_uri": "https://localhost:8080/"
    },
    "id": "77lUxg-ZFwV2",
    "outputId": "c486a5a7-1d0e-44c7-acbf-7758c3579f43"
   },
   "outputs": [
    {
     "data": {
      "text/plain": [
       "VectorAssembler_d76dd21ae524"
      ]
     },
     "execution_count": 24,
     "metadata": {},
     "output_type": "execute_result"
    }
   ],
   "source": [
    "clean_up"
   ]
  },
  {
   "cell_type": "markdown",
   "metadata": {
    "id": "_z6K8lJoEjym"
   },
   "source": [
    "# The Model:"
   ]
  },
  {
   "cell_type": "code",
   "execution_count": 25,
   "metadata": {
    "id": "sIsuhbtUEhsG"
   },
   "outputs": [],
   "source": [
    "from pyspark.ml.classification import NaiveBayes"
   ]
  },
  {
   "cell_type": "code",
   "execution_count": 26,
   "metadata": {
    "id": "JDkA4trsGAOO"
   },
   "outputs": [],
   "source": [
    "#use defaults\n",
    "nb = NaiveBayes()"
   ]
  },
  {
   "cell_type": "markdown",
   "metadata": {
    "id": "8G_08hQ2GKq8"
   },
   "source": [
    "# Pipeline:"
   ]
  },
  {
   "cell_type": "code",
   "execution_count": 27,
   "metadata": {
    "id": "LGyHVGgVGNrY"
   },
   "outputs": [],
   "source": [
    "from pyspark.ml import Pipeline"
   ]
  },
  {
   "cell_type": "code",
   "execution_count": 28,
   "metadata": {
    "id": "DdesitcuGU2J"
   },
   "outputs": [],
   "source": [
    "#prepare the pipeline stages\n",
    "data_prep_pipe = Pipeline(stages=[ham_spam_to_num,tokenizer,stopremove,count_vec,idf,clean_up])"
   ]
  },
  {
   "cell_type": "code",
   "execution_count": 29,
   "metadata": {
    "colab": {
     "base_uri": "https://localhost:8080/",
     "height": 797
    },
    "id": "8SHIsouPHr5u",
    "outputId": "f6840610-3371-4cd7-d31a-473e0570a69c"
   },
   "outputs": [],
   "source": [
    "#fit the data to the pipeline\n",
    "cleaner = data_prep_pipe.fit(data)"
   ]
  },
  {
   "cell_type": "code",
   "execution_count": 30,
   "metadata": {
    "id": "nj5c-_30JEHN"
   },
   "outputs": [],
   "source": [
    "#clean the data\n",
    "clean_data=cleaner.transform(data)"
   ]
  },
  {
   "cell_type": "markdown",
   "metadata": {
    "id": "CJp0LwmDJ3bC"
   },
   "source": [
    "# Training and Evaluation"
   ]
  },
  {
   "cell_type": "code",
   "execution_count": 31,
   "metadata": {
    "id": "pXuSGGOlJZtJ"
   },
   "outputs": [],
   "source": [
    "clean_data=clean_data.select(['label','features'])"
   ]
  },
  {
   "cell_type": "code",
   "execution_count": 32,
   "metadata": {},
   "outputs": [
    {
     "name": "stdout",
     "output_type": "stream",
     "text": [
      "+-----+--------------------+\n",
      "|label|            features|\n",
      "+-----+--------------------+\n",
      "|  0.0|(13424,[7,11,31,6...|\n",
      "|  0.0|(13424,[0,24,301,...|\n",
      "|  1.0|(13424,[2,13,19,3...|\n",
      "|  0.0|(13424,[0,70,80,1...|\n",
      "|  0.0|(13424,[36,134,31...|\n",
      "|  1.0|(13424,[10,60,140...|\n",
      "|  0.0|(13424,[10,53,102...|\n",
      "|  0.0|(13424,[127,185,4...|\n",
      "|  1.0|(13424,[1,47,121,...|\n",
      "|  1.0|(13424,[0,1,13,27...|\n",
      "|  0.0|(13424,[18,43,117...|\n",
      "|  1.0|(13424,[8,16,37,8...|\n",
      "|  1.0|(13424,[13,30,47,...|\n",
      "|  0.0|(13424,[39,95,221...|\n",
      "|  0.0|(13424,[555,1797,...|\n",
      "|  1.0|(13424,[30,109,11...|\n",
      "|  0.0|(13424,[82,214,44...|\n",
      "|  0.0|(13424,[0,2,49,13...|\n",
      "|  0.0|(13424,[0,74,105,...|\n",
      "|  1.0|(13424,[4,30,33,5...|\n",
      "+-----+--------------------+\n",
      "only showing top 20 rows\n",
      "\n"
     ]
    }
   ],
   "source": [
    "clean_data.show()"
   ]
  },
  {
   "cell_type": "code",
   "execution_count": 33,
   "metadata": {},
   "outputs": [],
   "source": [
    "(training,testing)=clean_data.randomSplit([0.7,0.3])"
   ]
  },
  {
   "cell_type": "code",
   "execution_count": 34,
   "metadata": {},
   "outputs": [],
   "source": [
    "spam_predictor=nb.fit(training)"
   ]
  },
  {
   "cell_type": "code",
   "execution_count": 35,
   "metadata": {},
   "outputs": [
    {
     "name": "stdout",
     "output_type": "stream",
     "text": [
      "root\n",
      " |-- class: string (nullable = true)\n",
      " |-- text: string (nullable = true)\n",
      " |-- length: integer (nullable = true)\n",
      "\n"
     ]
    }
   ],
   "source": [
    "data.printSchema()"
   ]
  },
  {
   "cell_type": "code",
   "execution_count": 36,
   "metadata": {},
   "outputs": [],
   "source": [
    "test_results=spam_predictor.transform(testing)"
   ]
  },
  {
   "cell_type": "code",
   "execution_count": 37,
   "metadata": {},
   "outputs": [
    {
     "data": {
      "text/plain": [
       "<bound method DataFrame.show of DataFrame[label: double, features: vector, rawPrediction: vector, probability: vector, prediction: double]>"
      ]
     },
     "execution_count": 37,
     "metadata": {},
     "output_type": "execute_result"
    }
   ],
   "source": [
    "test_results.show"
   ]
  },
  {
   "cell_type": "code",
   "execution_count": 38,
   "metadata": {},
   "outputs": [],
   "source": [
    "from pyspark.ml.evaluation import MulticlassClassificationEvaluator"
   ]
  },
  {
   "cell_type": "code",
   "execution_count": 40,
   "metadata": {},
   "outputs": [
    {
     "name": "stdout",
     "output_type": "stream",
     "text": [
      "Accuracy of model at predicting spam was : 0.9227684465925983\n"
     ]
    }
   ],
   "source": [
    "acc_eval=MulticlassClassificationEvaluator()\n",
    "acc=acc_eval.evaluate(test_results)\n",
    "print(\"Accuracy of model at predicting spam was : {}\".format(acc))"
   ]
  },
  {
   "cell_type": "markdown",
   "metadata": {},
   "source": [
    "Not bad considering we're using straight math on text data! Try switching out the classification models! Or even try to come up with other engineered features!"
   ]
  },
  {
   "cell_type": "markdown",
   "metadata": {},
   "source": [
    "# Logistic Regression:"
   ]
  },
  {
   "cell_type": "code",
   "execution_count": 41,
   "metadata": {},
   "outputs": [],
   "source": [
    "from pyspark.ml.classification import LogisticRegression"
   ]
  },
  {
   "cell_type": "code",
   "execution_count": 42,
   "metadata": {},
   "outputs": [],
   "source": [
    "log_reg = LogisticRegression(featuresCol='features',\n",
    "                             labelCol='label')"
   ]
  },
  {
   "cell_type": "code",
   "execution_count": 43,
   "metadata": {},
   "outputs": [],
   "source": [
    "spam_predictor=log_reg.fit(training)"
   ]
  },
  {
   "cell_type": "code",
   "execution_count": 44,
   "metadata": {},
   "outputs": [
    {
     "name": "stdout",
     "output_type": "stream",
     "text": [
      "root\n",
      " |-- class: string (nullable = true)\n",
      " |-- text: string (nullable = true)\n",
      " |-- length: integer (nullable = true)\n",
      "\n"
     ]
    }
   ],
   "source": [
    "data.printSchema()"
   ]
  },
  {
   "cell_type": "code",
   "execution_count": 45,
   "metadata": {},
   "outputs": [],
   "source": [
    "test_results=spam_predictor.transform(testing)"
   ]
  },
  {
   "cell_type": "code",
   "execution_count": 46,
   "metadata": {},
   "outputs": [
    {
     "data": {
      "text/plain": [
       "<bound method DataFrame.show of DataFrame[label: double, features: vector, rawPrediction: vector, probability: vector, prediction: double]>"
      ]
     },
     "execution_count": 46,
     "metadata": {},
     "output_type": "execute_result"
    }
   ],
   "source": [
    "test_results.show"
   ]
  },
  {
   "cell_type": "code",
   "execution_count": 47,
   "metadata": {},
   "outputs": [],
   "source": [
    "from pyspark.ml.evaluation import MulticlassClassificationEvaluator"
   ]
  },
  {
   "cell_type": "code",
   "execution_count": 48,
   "metadata": {},
   "outputs": [
    {
     "name": "stdout",
     "output_type": "stream",
     "text": [
      "Accuracy of model at predicting spam was : 0.9857704279925621\n"
     ]
    }
   ],
   "source": [
    "acc_eval=MulticlassClassificationEvaluator()\n",
    "acc=acc_eval.evaluate(test_results)\n",
    "print(\"Accuracy of model at predicting spam was : {}\".format(acc))"
   ]
  },
  {
   "cell_type": "code",
   "execution_count": null,
   "metadata": {},
   "outputs": [],
   "source": []
  },
  {
   "cell_type": "markdown",
   "metadata": {},
   "source": [
    "# NLP:"
   ]
  },
  {
   "cell_type": "code",
   "execution_count": 49,
   "metadata": {},
   "outputs": [],
   "source": [
    "example_corpus=\"The bike is driven on the road. The car is driven on the highway\""
   ]
  },
  {
   "cell_type": "code",
   "execution_count": 50,
   "metadata": {},
   "outputs": [
    {
     "name": "stdout",
     "output_type": "stream",
     "text": [
      "raw text:\n",
      "['The bike is driven on the road', ' The car is driven on the highway']\n",
      "tokenized term:\n",
      "[['the', 'bike', 'is', 'driven', 'on', 'the', 'road'], ['the', 'car', 'is', 'driven', 'on', 'the', 'highway']]\n"
     ]
    }
   ],
   "source": [
    "#tokenisation\n",
    "from pprint import pprint\n",
    "\n",
    "list_example=example_corpus.split('.')\n",
    "print('raw text:')\n",
    "print(list_example)\n",
    "\n",
    "list_example_term=[str(document).lower().split() for document in list_example]\n",
    "print('tokenized term:')\n",
    "print(list_example_term)"
   ]
  },
  {
   "cell_type": "markdown",
   "metadata": {},
   "source": [
    "the parameters required for TFIDF calculations:\n",
    "\n",
    "n=no of documents\n",
    "\n",
    "d= document index\n",
    "\n",
    "t = term\n",
    "\n",
    "tc = term count in a specific document\n",
    "\n",
    "tt = total terms in a specific document\n",
    "\n",
    "df = number of documents containing a specific term"
   ]
  },
  {
   "cell_type": "code",
   "execution_count": 51,
   "metadata": {},
   "outputs": [
    {
     "name": "stdout",
     "output_type": "stream",
     "text": [
      "n:\n",
      "2\n",
      "\n",
      "tokenized term (t):\n",
      "[['the', 'bike', 'is', 'driven', 'on', 'the', 'road'],\n",
      " ['the', 'car', 'is', 'driven', 'on', 'the', 'highway']]\n",
      "\n",
      "term count (tc):\n",
      "[[('the', 2), ('bike', 1), ('is', 1), ('driven', 1), ('on', 1), ('road', 1)],\n",
      " [('the', 2), ('car', 1), ('is', 1), ('driven', 1), ('on', 1), ('highway', 1)]]\n",
      "\n",
      "total term (tt):\n",
      "[7, 7]\n",
      "\n",
      "document frequency (df):\n",
      "[('the', 2),\n",
      " ('bike', 1),\n",
      " ('is', 2),\n",
      " ('driven', 2),\n",
      " ('on', 2),\n",
      " ('road', 1),\n",
      " ('car', 1),\n",
      " ('highway', 1)]\n",
      "\n"
     ]
    }
   ],
   "source": [
    "from collections import Counter\n",
    "from pprint import pprint\n",
    "\n",
    "example_n=len(list_example)\n",
    "print('n:')\n",
    "print(example_n)\n",
    "print()\n",
    "list_example_term_t=[str(document).lower().split() for document in list_example]\n",
    "print('tokenized term (t):')\n",
    "pprint(list_example_term_t)\n",
    "print()\n",
    "list_example_term_tc =[list(Counter(document).items()) for document in list_example_term_t]\n",
    "print('term count (tc):')\n",
    "pprint(list_example_term_tc)\n",
    "print()\n",
    "list_example_term_tt =[sum([term[1]  for term in document]) for document in list_example_term_tc]\n",
    "print('total term (tt):')\n",
    "pprint(list_example_term_tt)\n",
    "print()\n",
    "counter_example_term_df =Counter([term[0] for document in list_example_term_tc for term in document])\n",
    "print('document frequency (df):')\n",
    "pprint(list(counter_example_term_df.items()))\n",
    "print()"
   ]
  },
  {
   "cell_type": "code",
   "execution_count": 52,
   "metadata": {},
   "outputs": [
    {
     "name": "stdout",
     "output_type": "stream",
     "text": [
      "[0, 'the', 2, 7, 0.2857142857142857, 2, 0.0, 0.0]\n",
      "[0, 'bike', 1, 7, 0.14285714285714285, 1, 0.3010299956639812, 0.043004285094854454]\n",
      "[0, 'is', 1, 7, 0.14285714285714285, 2, 0.0, 0.0]\n",
      "[0, 'driven', 1, 7, 0.14285714285714285, 2, 0.0, 0.0]\n",
      "[0, 'on', 1, 7, 0.14285714285714285, 2, 0.0, 0.0]\n",
      "[0, 'road', 1, 7, 0.14285714285714285, 1, 0.3010299956639812, 0.043004285094854454]\n",
      "[1, 'the', 2, 7, 0.2857142857142857, 2, 0.0, 0.0]\n",
      "[1, 'car', 1, 7, 0.14285714285714285, 1, 0.3010299956639812, 0.043004285094854454]\n",
      "[1, 'is', 1, 7, 0.14285714285714285, 2, 0.0, 0.0]\n",
      "[1, 'driven', 1, 7, 0.14285714285714285, 2, 0.0, 0.0]\n",
      "[1, 'on', 1, 7, 0.14285714285714285, 2, 0.0, 0.0]\n",
      "[1, 'highway', 1, 7, 0.14285714285714285, 1, 0.3010299956639812, 0.043004285094854454]\n"
     ]
    }
   ],
   "source": [
    "import numpy as np\n",
    "\n",
    "def calculate_example_tfidf(indx,t,tc,tt,n,df):\n",
    "  tf=tc/tt\n",
    "  idf=np.log10((n)/(df))\n",
    "  tfidf=tf*idf\n",
    "#weight associated with a word to recognised whether it is important(relavant) or not\n",
    "  return [indx,t,tc,tt,tf,df,idf,tfidf]\n",
    "\n",
    "for indx,document in enumerate(list_example_term_tc):\n",
    "  for t,tc in document:\n",
    "    print(calculate_example_tfidf(indx\n",
    "                                  ,t\n",
    "                                  ,tc\n",
    "                                  ,list_example_term_tt[indx]\n",
    "                                  ,example_n\n",
    "                                  ,counter_example_term_df[t]))"
   ]
  },
  {
   "cell_type": "code",
   "execution_count": null,
   "metadata": {},
   "outputs": [],
   "source": []
  }
 ],
 "metadata": {
  "colab": {
   "provenance": []
  },
  "kernelspec": {
   "display_name": "Python 3 (ipykernel)",
   "language": "python",
   "name": "python3"
  },
  "language_info": {
   "codemirror_mode": {
    "name": "ipython",
    "version": 3
   },
   "file_extension": ".py",
   "mimetype": "text/x-python",
   "name": "python",
   "nbconvert_exporter": "python",
   "pygments_lexer": "ipython3",
   "version": "3.9.15"
  }
 },
 "nbformat": 4,
 "nbformat_minor": 1
}
